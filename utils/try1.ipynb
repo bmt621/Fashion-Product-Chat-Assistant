{
 "cells": [
  {
   "cell_type": "code",
   "execution_count": 1,
   "metadata": {},
   "outputs": [],
   "source": [
    "import requests\n",
    "\n",
    "url = 'http://0.0.0.0:8000/search_products'\n",
    "\n",
    "# Define the data you want to send (if any) as a dictionary\n",
    "data = {\"user_query\":\"Show me a men's Polo T-shirt by Nike\"}\n",
    "\n",
    "response = requests.post(url, json=data)\n"
   ]
  },
  {
   "cell_type": "code",
   "execution_count": 5,
   "metadata": {},
   "outputs": [
    {
     "data": {
      "text/plain": [
       "[{'id': 1,\n",
       "  'category': 'T-shirt',\n",
       "  'name': \"Men's Polo T-shirt\",\n",
       "  'brand': 'Nike',\n",
       "  'color': 'Green',\n",
       "  'size': 'M',\n",
       "  'price': 29.99,\n",
       "  'description': 'Classic Polo T-shirt from Nike in green color, available in medium size.',\n",
       "  'image_url': 'https://example.com/images/nike_polo_green.jpg',\n",
       "  'shop_url': 'https://example.com/shop/product/1'},\n",
       " {'id': 17,\n",
       "  'category': 'T-shirt',\n",
       "  'name': \"Men's Polo T-shirt\",\n",
       "  'brand': 'Nike',\n",
       "  'color': 'Black',\n",
       "  'size': 'L',\n",
       "  'price': 29.99,\n",
       "  'description': 'Classic Polo T-shirt from Nike in black color, available in large size.',\n",
       "  'image_url': 'https://example.com/images/nike_polo_black.jpg',\n",
       "  'shop_url': 'https://example.com/shop/product/17'},\n",
       " {'id': 33,\n",
       "  'category': 'T-shirt',\n",
       "  'name': \"Men's Polo T-shirt\",\n",
       "  'brand': 'Nike',\n",
       "  'color': 'Black',\n",
       "  'size': 'L',\n",
       "  'price': 29.99,\n",
       "  'description': 'Classic Polo T-shirt from Nike in black color, available in large size.',\n",
       "  'image_url': 'https://example.com/images/nike_polo_black.jpg',\n",
       "  'shop_url': 'https://example.com/shop/product/33'},\n",
       " {'id': 41,\n",
       "  'category': 'T-shirt',\n",
       "  'name': \"Men's Round Neck T-shirt\",\n",
       "  'brand': 'Adidas',\n",
       "  'color': 'Blue',\n",
       "  'size': 'L',\n",
       "  'price': 24.99,\n",
       "  'description': 'Comfortable blue Round Neck T-shirt for men by Adidas, available in large size.',\n",
       "  'image_url': 'https://example.com/images/adidas_round_neck_blue.jpg',\n",
       "  'shop_url': 'https://example.com/shop/product/41'},\n",
       " {'id': 49,\n",
       "  'category': 'T-shirt',\n",
       "  'name': \"Men's Polo T-shirt\",\n",
       "  'brand': 'Nike',\n",
       "  'color': 'Black',\n",
       "  'size': 'L',\n",
       "  'price': 29.99,\n",
       "  'description': 'Classic Polo T-shirt from Nike in black color, available in large size.',\n",
       "  'image_url': 'https://example.com/images/nike_polo_black.jpg',\n",
       "  'shop_url': 'https://example.com/shop/product/49'},\n",
       " {'id': 65,\n",
       "  'category': 'T-shirt',\n",
       "  'name': \"Men's Polo T-shirt\",\n",
       "  'brand': 'Nike',\n",
       "  'color': 'Black',\n",
       "  'size': 'L',\n",
       "  'price': 29.99,\n",
       "  'description': 'Classic Polo T-shirt from Nike in black color, available in large size.',\n",
       "  'image_url': 'https://example.com/images/nike_polo_black.jpg',\n",
       "  'shop_url': 'https://example.com/shop/product/65'},\n",
       " {'id': 73,\n",
       "  'category': 'T-shirt',\n",
       "  'name': \"Men's Round Neck T-shirt\",\n",
       "  'brand': 'Adidas',\n",
       "  'color': 'Blue',\n",
       "  'size': 'L',\n",
       "  'price': 24.99,\n",
       "  'description': 'Comfortable blue Round Neck T-shirt for men by Adidas, available in large size.',\n",
       "  'image_url': 'https://example.com/images/adidas_round_neck_blue.jpg',\n",
       "  'shop_url': 'https://example.com/shop/product/73'},\n",
       " {'id': 81,\n",
       "  'category': 'T-shirt',\n",
       "  'name': \"Men's Polo T-shirt\",\n",
       "  'brand': 'Nike',\n",
       "  'color': 'Black',\n",
       "  'size': 'L',\n",
       "  'price': 29.99,\n",
       "  'description': 'Classic Polo T-shirt from Nike in black color, available in large size.',\n",
       "  'image_url': 'https://example.com/images/nike_polo_black.jpg',\n",
       "  'shop_url': 'https://example.com/shop/product/81'},\n",
       " {'id': 89,\n",
       "  'category': 'T-shirt',\n",
       "  'name': \"Men's Round Neck T-shirt\",\n",
       "  'brand': 'Adidas',\n",
       "  'color': 'Blue',\n",
       "  'size': 'L',\n",
       "  'price': 24.99,\n",
       "  'description': 'Comfortable blue Round Neck T-shirt for men by Adidas, available in large size.',\n",
       "  'image_url': 'https://example.com/images/adidas_round_neck_blue.jpg',\n",
       "  'shop_url': 'https://example.com/shop/product/89'},\n",
       " {'id': 97,\n",
       "  'category': 'T-shirt',\n",
       "  'name': \"Men's Polo T-shirt\",\n",
       "  'brand': 'Nike',\n",
       "  'color': 'Black',\n",
       "  'size': 'L',\n",
       "  'price': 29.99,\n",
       "  'description': 'Classic Polo T-shirt from Nike in black color, available in large size.',\n",
       "  'image_url': 'https://example.com/images/nike_polo_black.jpg',\n",
       "  'shop_url': 'https://example.com/shop/product/97'}]"
      ]
     },
     "execution_count": 5,
     "metadata": {},
     "output_type": "execute_result"
    }
   ],
   "source": [
    "response.json()['retrieved']"
   ]
  },
  {
   "cell_type": "code",
   "execution_count": 6,
   "metadata": {},
   "outputs": [
    {
     "data": {
      "text/plain": [
       "NoneType"
      ]
     },
     "execution_count": 6,
     "metadata": {},
     "output_type": "execute_result"
    }
   ],
   "source": [
    "type(None)"
   ]
  },
  {
   "cell_type": "code",
   "execution_count": 12,
   "metadata": {},
   "outputs": [],
   "source": [
    "import numpy as np"
   ]
  },
  {
   "cell_type": "code",
   "execution_count": 13,
   "metadata": {},
   "outputs": [],
   "source": [
    "a = np.array([1,2,3])"
   ]
  },
  {
   "cell_type": "code",
   "execution_count": 15,
   "metadata": {},
   "outputs": [
    {
     "data": {
      "text/plain": [
       "True"
      ]
     },
     "execution_count": 15,
     "metadata": {},
     "output_type": "execute_result"
    }
   ],
   "source": [
    "len(a)>0"
   ]
  },
  {
   "cell_type": "code",
   "execution_count": 23,
   "metadata": {},
   "outputs": [],
   "source": [
    "print()"
   ]
  },
  {
   "cell_type": "code",
   "execution_count": 24,
   "metadata": {},
   "outputs": [],
   "source": [
    "from agent import product_embedder\n",
    "import pandas as pd\n",
    "catalog = pd.read_json('catalog.json')\n",
    "\n",
    "agent = product_embedder(catalog,embedding_path='embeddings_with_ID.json')"
   ]
  },
  {
   "cell_type": "code",
   "execution_count": 25,
   "metadata": {},
   "outputs": [
    {
     "data": {
      "text/plain": [
       "(\"I'm sorry, but I couldn't find any products matching your request. Could you please provide more information, or you can search through the catalogs or leave us a message.\",\n",
       " False)"
      ]
     },
     "execution_count": 25,
     "metadata": {},
     "output_type": "execute_result"
    }
   ],
   "source": [
    "agent.chat_with_agent(\"show me \")"
   ]
  },
  {
   "cell_type": "code",
   "execution_count": null,
   "metadata": {},
   "outputs": [],
   "source": []
  }
 ],
 "metadata": {
  "kernelspec": {
   "display_name": "FashionProductEnv",
   "language": "python",
   "name": "python3"
  },
  "language_info": {
   "codemirror_mode": {
    "name": "ipython",
    "version": 3
   },
   "file_extension": ".py",
   "mimetype": "text/x-python",
   "name": "python",
   "nbconvert_exporter": "python",
   "pygments_lexer": "ipython3",
   "version": "3.8.10"
  },
  "orig_nbformat": 4
 },
 "nbformat": 4,
 "nbformat_minor": 2
}
